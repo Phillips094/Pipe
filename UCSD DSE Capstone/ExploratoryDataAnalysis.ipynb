{
 "cells": [
  {
   "cell_type": "code",
   "execution_count": null,
   "id": "05c9adb2",
   "metadata": {},
   "outputs": [],
   "source": [
    "import pandas as pd\n",
    "import glob  \n",
    "from datetime import datetime, date, timedelta\n",
    "\n",
    "def get_daterange(start_date, end_date, step):\n",
    "    while start_date <= end_date:\n",
    "        yield start_date\n",
    "        start_date += step\n",
    "\n",
    "file_list = glob.glob('/home/ec2-user/SageMaker/MODISTerraNDVI/*.csv')\n",
    "\n",
    "District = {'Black_Mtn_Ranch': 'NE',\n",
    "   'Campo': 'ME' ,\n",
    "   'Camp_Pendleton__Wheelan_Lake' : 'OC',\n",
    "   'Case_Springs' : 'OC',\n",
    "   'Fallbrook__Ammo_Dump' : 'NE',\n",
    "   'Guejito_North': 'NE',\n",
    "   'Guejito_West': 'NE',\n",
    "   'Hellhole_Canyon': 'NE',\n",
    "   'Highland_Valley_Rd': 'RA',\n",
    "   'Honey_Springs_Rd': 'ME',\n",
    "   'Mesa_Grande': 'RA',\n",
    "   'Mission_Trail': 'BC',\n",
    "   'Ortega_Highway': 'OC',\n",
    "   'Santa_Rosa_Plateau' : 'NE',\n",
    "   'Santa_Ysabel_North' : 'RA',\n",
    "   'Sycamore_Canyon' :    'EA',\n",
    "   'Viejas' : 'ME', \n",
    "   'Warner_Springs' :   'RA',\n",
    "   'Witch_Creek' : 'RA'}\n",
    "\n",
    "DateTable = pd.DataFrame([(x_, y_) for x_ in set(District.keys()) for y_ in get_daterange(date(2014, 1, 1), date(2021, 5, 10), \n",
    "                                                                                   timedelta(days=1))])\n",
    "DateTable.columns = ['Station','Timestamp']\n",
    "DateTable['District'] =  DateTable['Station'].apply(lambda x: District.get(x))\n",
    "DateTable['Timestamp'] = pd.to_datetime(DateTable['Timestamp'])"
   ]
  },
  {
   "cell_type": "code",
   "execution_count": null,
   "id": "3656f9ff",
   "metadata": {},
   "outputs": [],
   "source": [
    "DateTable"
   ]
  },
  {
   "cell_type": "code",
   "execution_count": null,
   "id": "6d6acffb",
   "metadata": {},
   "outputs": [],
   "source": [
    "Ndvi= pd.DataFrame(columns=['Station','District','Timestamp','NDVI','NDVILinearInterpolation','NDVIQuadraticInterpolation'])\n",
    "for file in file_list:\n",
    "     \n",
    "    district = District.get(file.split('/')[-1].replace('.csv',''))\n",
    "    station = file.split('/')[-1].replace('.csv','')\n",
    "    print(district,station)"
   ]
  },
  {
   "cell_type": "code",
   "execution_count": null,
   "id": "3e9aafff",
   "metadata": {},
   "outputs": [],
   "source": [
    "Ndvi= pd.DataFrame(columns=['Station','District','Timestamp','NDVI','NDVILinearInterpolation','NDVIQuadraticInterpolation'])\n",
    "for file in file_list:\n",
    "     \n",
    "    district = District.get(file.split('/')[-1].replace('.csv',''))\n",
    "    station = file.split('/')[-1].replace('.csv','')\n",
    "    temp = pd.read_csv(file)\n",
    "    temp['# timestamp'] = pd.to_datetime(temp['# timestamp'])\n",
    "    temp.columns= ['Timestamp', 'NDVI']\n",
    "    temp['District'] = district\n",
    "    temp['Station'] = station\n",
    "    print(station)\n",
    "    NdviAllDates = pd.merge(DateTable.loc[DateTable['District']==district],temp,how='left',left_on=['District','Station','Timestamp'],right_on=['District','Station','Timestamp'])\n",
    "    NdviAllDates['NDVILinearInterpolation'] = NdviAllDates.interpolate(method='linear',limit_direction='forward')['NDVI']\n",
    "    NdviAllDates['NDVIQuadraticInterpolation'] = NdviAllDates.interpolate(method='quadratic',limit_direction='forward')['NDVI']\n",
    "    Ndvi = Ndvi.append(NdviAllDates)"
   ]
  },
  {
   "cell_type": "code",
   "execution_count": null,
   "id": "bf7ffc21",
   "metadata": {},
   "outputs": [],
   "source": [
    "pd.DataFrame(Ndvi.groupby(['District','Timestamp']).max())['NDVILinearInterpolation'].reset_index()"
   ]
  },
  {
   "cell_type": "code",
   "execution_count": null,
   "id": "9e9165ef",
   "metadata": {},
   "outputs": [],
   "source": [
    "Ndvi"
   ]
  },
  {
   "cell_type": "code",
   "execution_count": null,
   "id": "326835c7",
   "metadata": {},
   "outputs": [],
   "source": [
    "Ndvi[Ndvi['NDVILinearInterpolation'].notnull()].groupby([''])"
   ]
  },
  {
   "cell_type": "code",
   "execution_count": null,
   "id": "bd2fa052",
   "metadata": {},
   "outputs": [],
   "source": [
    "Ndvi= pd.DataFrame(columns=['District','Timestamp','NDVI','NDVILinearInterpolation','NDVIQuadraticInterpolation'])\n",
    "file = file_list[0]\n",
    "district = District.get(file.split('/')[-1].replace('.csv',''))\n",
    "station = file.split('/')[-1].replace('.csv','')\n",
    "temp = pd.read_csv(file)\n",
    "temp['# timestamp'] = pd.to_datetime(temp['# timestamp'])\n",
    "temp.columns= ['Timestamp', 'NDVI']\n",
    "temp['District'] = district\n",
    "temp['Station'] = station\n",
    "print(station)\n",
    "NdviAllDates = pd.merge(DateTable.loc[DateTable['District']==district],temp,how='left',left_on=['District','Station','Timestamp'],right_on=['District','Station','Timestamp'])\n",
    "NdviAllDates['NDVILinearInterpolation'] = NdviAllDates.interpolate(method='linear',limit_direction='forward')['NDVI']\n",
    "NdviAllDates['NDVIQuadraticInterpolation'] = NdviAllDates.interpolate(method='quadratic',limit_direction='forward')['NDVI']\n",
    "Ndvi = Ndvi.append(NdviAllDates)"
   ]
  },
  {
   "cell_type": "code",
   "execution_count": null,
   "id": "a5039b49",
   "metadata": {},
   "outputs": [],
   "source": [
    "import plotly.graph_objects as go\n",
    "import plotly.express as px\n",
    "from plotly.subplots import make_subplots\n",
    "\n",
    "fig = make_subplots()\n",
    "\n",
    "fig.add_trace(\n",
    "    go.Scatter(x=Ndvi[Ndvi['Station']=='Santa_Ysabel_North']['Timestamp'], y=Ndvi[Ndvi['Station']=='Santa_Ysabel_North']['NDVI'],mode=\"markers\",name=\"Actual NDVI\"))\n",
    "\n",
    "\n",
    "fig.add_trace(\n",
    "    go.Scatter(x=Ndvi[Ndvi['Station']=='Santa_Ysabel_North']['Timestamp'], y=Ndvi[Ndvi['Station']=='Santa_Ysabel_North']['NDVILinearInterpolation'],name=\"NDVI Linear Interpolation\"),)\n",
    "\n",
    "\n",
    "fig.add_trace(\n",
    "    go.Scatter(x=Ndvi[Ndvi['Station']=='Santa_Ysabel_North']['Timestamp'], y=Ndvi[Ndvi['Station']=='Santa_Ysabel_North']['NDVIQuadraticInterpolation'],name=\"NDVI Quadratic Interpolation\"))\n",
    "\n",
    "\n",
    "fig.update_layout(\n",
    "    title=\"Santa Ysabel Station NDVI Interpolation Methods over Time\",\n",
    "    xaxis_title=\"Date\",\n",
    "    yaxis_title=\"NDVI\",\n",
    "    legend_title=\"NDVI Methods\",\n",
    "    font=dict(\n",
    "        family=\"Semibold\",\n",
    "        size=18,\n",
    "        color=\"Grey\")\n",
    "    )\n",
    "\n",
    "\n",
    "# # Add figure title\n",
    "# fig.update_layout(\n",
    "#     title_text=\"NDVI Interpolation Methods over Time\"\n",
    "# )\n",
    "\n",
    "# fig.update_xaxes(title_text=\"Date\")\n",
    "# fig.update_yaxes(title_text=\"NDVI\")\n"
   ]
  },
  {
   "cell_type": "code",
   "execution_count": 5,
   "id": "97e63948",
   "metadata": {},
   "outputs": [],
   "source": [
    "MesoWestFuel = pd.read_csv('MesoWestFuelEnhanced.csv').drop(columns=['Unnamed: 0', 'Unnamed: 0.1'])"
   ]
  },
  {
   "cell_type": "code",
   "execution_count": null,
   "id": "1e78310f",
   "metadata": {},
   "outputs": [],
   "source": [
    "MesoWestFuelsample = MesoWestFuel[(MesoWestFuel['Date']>'2014-01-01')&(MesoWestFuel['Date']<'2019-01-01')&(MesoWestFuel['solar_radiation_set_1'].notnull())].reset_index().drop(columns=['index'])"
   ]
  },
  {
   "cell_type": "code",
   "execution_count": null,
   "id": "f0a74a5e",
   "metadata": {},
   "outputs": [],
   "source": [
    "from sklearn.model_selection import train_test_split\n",
    "import numpy as np"
   ]
  },
  {
   "cell_type": "code",
   "execution_count": null,
   "id": "52c514f6",
   "metadata": {},
   "outputs": [],
   "source": [
    "X = MesoWestFuelsample.drop(columns=['Date','Region','Station','date_time','solar_radiation_set_1','wind_cardinal_direction_set_1d'])\n",
    "y = MesoWestFuelsample['solar_radiation_set_1']\n",
    "X_train, X_test, y_train , y_test= train_test_split(X,y,test_size=0.2,stratify=MesoWestFuelsample['Station'])\n",
    "# MeanImputation = np.repeat(np.mean(y_train),len(y_test))"
   ]
  },
  {
   "cell_type": "code",
   "execution_count": null,
   "id": "96d4562a",
   "metadata": {},
   "outputs": [],
   "source": [
    "SetNone = [None for i in y_test]\n",
    "MesoWestFuelsample['SolarRadiation'] = list(pd.concat([y_train,pd.Series(SetNone)]))"
   ]
  },
  {
   "cell_type": "code",
   "execution_count": null,
   "id": "0be618f2",
   "metadata": {},
   "outputs": [],
   "source": [
    "from sklearn.experimental import enable_iterative_imputer\n",
    "from sklearn.impute import IterativeImputer\n",
    "from sklearn.linear_model import LinearRegression\n",
    "\n",
    "lr = LinearRegression()\n",
    "imp = IterativeImputer(estimator=lr,missing_values=np.nan,max_iter=100, verbose=2,imputation_order='roman',random_state=42)\n",
    "\n",
    "# SolarRadiationMICEDF = MesoWestFuelsample[['fuel_temp_set_1','air_temp_set_1',\n",
    "#        'relative_humidity_set_1', 'wind_speed_set_1','wind_gust_set_1', 'solar_radiation_set_1','precip_accum_set_1',\n",
    "#        'water_temp_set_1', 'peak_wind_speed_set_1', 'fuel_moisture_set_1',\n",
    "#        'peak_wind_direction_set_1']]\n",
    "\n",
    "SolarRadiation = MesoWestFuelsample[['fuel_temp_set_1','air_temp_set_1',\n",
    "       'relative_humidity_set_1', 'wind_speed_set_1','wind_gust_set_1','precip_accum_set_1',\n",
    "                                     'fuel_moisture_set_1','SolarRadiation','peak_wind_speed_set_1']]\n",
    "\n",
    "\n",
    "MesoWestSolarRadiationImputationDF = pd.DataFrame(imp.fit_transform(SolarRadiation))\n",
    "MesoWestSolarRadiationImputationDF.columns = SolarRadiation.columns\n",
    "MICESolarRadiation = MesoWestSolarRadiationImputationDF.iloc[X_test.index]['SolarRadiation']\n",
    "# MeanImputationSolarRadiation = np.repeat(np.mean(y_train),len(y_test))"
   ]
  },
  {
   "cell_type": "code",
   "execution_count": null,
   "id": "bfcf6d82",
   "metadata": {},
   "outputs": [],
   "source": [
    "MICESolarRadiation = MesoWestSolarRadiationImputationDF.iloc[X_test.index]['SolarRadiation']\n",
    "MeanImputationSolarRadiation = np.repeat(np.mean(y_train),len(y_test))"
   ]
  },
  {
   "cell_type": "code",
   "execution_count": null,
   "id": "ddc7c4a5",
   "metadata": {},
   "outputs": [],
   "source": [
    "# import sklearn.metrics as metrics\n",
    "# def regression_results(y_true, y_pred):\n",
    "\n",
    "#     # Regression metrics\n",
    "#     explained_variance=metrics.explained_variance_score(y_true, y_pred)\n",
    "#     mean_absolute_error=metrics.mean_absolute_error(y_true, y_pred) \n",
    "#     mse=metrics.mean_squared_error(y_true, y_pred) \n",
    "#     mean_squared_log_error=metrics.mean_squared_log_error(y_true, y_pred)\n",
    "#     median_absolute_error=metrics.median_absolute_error(y_true, y_pred)\n",
    "#     r2=metrics.r2_score(y_true, y_pred)\n",
    "\n",
    "#     print('explained_variance: ', round(explained_variance,4))    \n",
    "#     print('mean_squared_log_error: ', round(mean_squared_log_error,4))\n",
    "#     print('r2: ', round(r2,4))\n",
    "#     print('MAE: ', round(mean_absolute_error,4))\n",
    "#     print('MSE: ', round(mse,4))\n",
    "#     print('RMSE: ', round(np.sqrt(mse),4))"
   ]
  },
  {
   "cell_type": "code",
   "execution_count": null,
   "id": "5c3cb6c8",
   "metadata": {},
   "outputs": [],
   "source": [
    "fig = go.Figure()\n",
    "fig.add_trace(go.Histogram(x=y_test,name=\"Actual Solar Radiation\"))\n",
    "fig.add_trace(go.Histogram(x=MICESolarRadiation,name=\"MICE Estimate Solar Radiation\"))\n",
    "\n",
    "fig.update_layout(barmode='overlay')\n",
    "\n",
    "fig.update_traces(opacity=0.75)\n",
    "\n",
    "fig.update_layout(\n",
    "    title_text='Sampled 2014 to 2018 Actual NDVI over MICE Estimate Solar Radiation Distribution', # title of plot\n",
    "    xaxis_title_text='Solar Radiation (Watts per square meter)', # xaxis label\n",
    "    yaxis_title_text='NDVI', # yaxis label\n",
    "    bargap=0.2, # gap between bars of adjacent location coordinates\n",
    "    bargroupgap=0.1 # gap between bars of the same location coordinates\n",
    "    ,    font=dict(\n",
    "        family=\"Semibold\",\n",
    "        size=18,\n",
    "        color=\"Grey\")\n",
    ")\n",
    "\n",
    "\n",
    "fig.show()"
   ]
  },
  {
   "cell_type": "code",
   "execution_count": null,
   "id": "74f739a6",
   "metadata": {},
   "outputs": [],
   "source": [
    "# regression_results(y_test,MICESolarRadiation)"
   ]
  },
  {
   "cell_type": "code",
   "execution_count": 2,
   "id": "a11bab8c",
   "metadata": {},
   "outputs": [
    {
     "name": "stdout",
     "output_type": "stream",
     "text": [
      "Collecting missingno\n",
      "  Downloading missingno-0.4.2-py3-none-any.whl (9.7 kB)\n",
      "Requirement already satisfied: numpy in /home/ec2-user/anaconda3/envs/python3/lib/python3.6/site-packages (from missingno) (1.19.5)\n",
      "Requirement already satisfied: seaborn in /home/ec2-user/anaconda3/envs/python3/lib/python3.6/site-packages (from missingno) (0.11.1)\n",
      "Requirement already satisfied: matplotlib in /home/ec2-user/anaconda3/envs/python3/lib/python3.6/site-packages (from missingno) (3.3.4)\n",
      "Requirement already satisfied: scipy in /home/ec2-user/anaconda3/envs/python3/lib/python3.6/site-packages (from missingno) (1.5.3)\n",
      "Requirement already satisfied: kiwisolver>=1.0.1 in /home/ec2-user/anaconda3/envs/python3/lib/python3.6/site-packages (from matplotlib->missingno) (1.3.1)\n",
      "Requirement already satisfied: pillow>=6.2.0 in /home/ec2-user/anaconda3/envs/python3/lib/python3.6/site-packages (from matplotlib->missingno) (8.2.0)\n",
      "Requirement already satisfied: cycler>=0.10 in /home/ec2-user/anaconda3/envs/python3/lib/python3.6/site-packages (from matplotlib->missingno) (0.10.0)\n",
      "Requirement already satisfied: pyparsing!=2.0.4,!=2.1.2,!=2.1.6,>=2.0.3 in /home/ec2-user/anaconda3/envs/python3/lib/python3.6/site-packages (from matplotlib->missingno) (2.4.7)\n",
      "Requirement already satisfied: python-dateutil>=2.1 in /home/ec2-user/anaconda3/envs/python3/lib/python3.6/site-packages (from matplotlib->missingno) (2.8.1)\n",
      "Requirement already satisfied: six in /home/ec2-user/anaconda3/envs/python3/lib/python3.6/site-packages (from cycler>=0.10->matplotlib->missingno) (1.15.0)\n",
      "Requirement already satisfied: pandas>=0.23 in /home/ec2-user/anaconda3/envs/python3/lib/python3.6/site-packages (from seaborn->missingno) (1.1.5)\n",
      "Requirement already satisfied: pytz>=2017.2 in /home/ec2-user/anaconda3/envs/python3/lib/python3.6/site-packages (from pandas>=0.23->seaborn->missingno) (2021.1)\n",
      "Installing collected packages: missingno\n",
      "Successfully installed missingno-0.4.2\n",
      "Note: you may need to restart the kernel to use updated packages.\n"
     ]
    }
   ],
   "source": [
    "pip install missingno"
   ]
  },
  {
   "cell_type": "code",
   "execution_count": 4,
   "id": "d794b30c",
   "metadata": {},
   "outputs": [
    {
     "name": "stderr",
     "output_type": "stream",
     "text": [
      "/home/ec2-user/anaconda3/envs/python3/lib/python3.6/site-packages/IPython/core/interactiveshell.py:3072: DtypeWarning: Columns (32,36,39,40,41,42,45) have mixed types.Specify dtype option on import or set low_memory=False.\n",
      "  interactivity=interactivity, compiler=compiler, result=result)\n"
     ]
    },
    {
     "ename": "KeyboardInterrupt",
     "evalue": "",
     "output_type": "error",
     "traceback": [
      "\u001b[0;31m---------------------------------------------------------------------------\u001b[0m",
      "\u001b[0;31mKeyboardInterrupt\u001b[0m                         Traceback (most recent call last)",
      "\u001b[0;32m<ipython-input-4-ff87b4e8b4df>\u001b[0m in \u001b[0;36m<module>\u001b[0;34m\u001b[0m\n\u001b[1;32m      1\u001b[0m \u001b[0;32mimport\u001b[0m \u001b[0mpandas\u001b[0m \u001b[0;32mas\u001b[0m \u001b[0mpd\u001b[0m\u001b[0;34m\u001b[0m\u001b[0;34m\u001b[0m\u001b[0m\n\u001b[0;32m----> 2\u001b[0;31m \u001b[0mMesoWestWind\u001b[0m \u001b[0;34m=\u001b[0m \u001b[0mpd\u001b[0m\u001b[0;34m.\u001b[0m\u001b[0mread_csv\u001b[0m\u001b[0;34m(\u001b[0m\u001b[0;34m'MesoWestWindEnhanced.csv'\u001b[0m\u001b[0;34m)\u001b[0m\u001b[0;34m\u001b[0m\u001b[0;34m\u001b[0m\u001b[0m\n\u001b[0m",
      "\u001b[0;32m~/anaconda3/envs/python3/lib/python3.6/site-packages/pandas/io/parsers.py\u001b[0m in \u001b[0;36mread_csv\u001b[0;34m(filepath_or_buffer, sep, delimiter, header, names, index_col, usecols, squeeze, prefix, mangle_dupe_cols, dtype, engine, converters, true_values, false_values, skipinitialspace, skiprows, skipfooter, nrows, na_values, keep_default_na, na_filter, verbose, skip_blank_lines, parse_dates, infer_datetime_format, keep_date_col, date_parser, dayfirst, cache_dates, iterator, chunksize, compression, thousands, decimal, lineterminator, quotechar, quoting, doublequote, escapechar, comment, encoding, dialect, error_bad_lines, warn_bad_lines, delim_whitespace, low_memory, memory_map, float_precision)\u001b[0m\n\u001b[1;32m    686\u001b[0m     )\n\u001b[1;32m    687\u001b[0m \u001b[0;34m\u001b[0m\u001b[0m\n\u001b[0;32m--> 688\u001b[0;31m     \u001b[0;32mreturn\u001b[0m \u001b[0m_read\u001b[0m\u001b[0;34m(\u001b[0m\u001b[0mfilepath_or_buffer\u001b[0m\u001b[0;34m,\u001b[0m \u001b[0mkwds\u001b[0m\u001b[0;34m)\u001b[0m\u001b[0;34m\u001b[0m\u001b[0;34m\u001b[0m\u001b[0m\n\u001b[0m\u001b[1;32m    689\u001b[0m \u001b[0;34m\u001b[0m\u001b[0m\n\u001b[1;32m    690\u001b[0m \u001b[0;34m\u001b[0m\u001b[0m\n",
      "\u001b[0;32m~/anaconda3/envs/python3/lib/python3.6/site-packages/pandas/io/parsers.py\u001b[0m in \u001b[0;36m_read\u001b[0;34m(filepath_or_buffer, kwds)\u001b[0m\n\u001b[1;32m    458\u001b[0m \u001b[0;34m\u001b[0m\u001b[0m\n\u001b[1;32m    459\u001b[0m     \u001b[0;32mtry\u001b[0m\u001b[0;34m:\u001b[0m\u001b[0;34m\u001b[0m\u001b[0;34m\u001b[0m\u001b[0m\n\u001b[0;32m--> 460\u001b[0;31m         \u001b[0mdata\u001b[0m \u001b[0;34m=\u001b[0m \u001b[0mparser\u001b[0m\u001b[0;34m.\u001b[0m\u001b[0mread\u001b[0m\u001b[0;34m(\u001b[0m\u001b[0mnrows\u001b[0m\u001b[0;34m)\u001b[0m\u001b[0;34m\u001b[0m\u001b[0;34m\u001b[0m\u001b[0m\n\u001b[0m\u001b[1;32m    461\u001b[0m     \u001b[0;32mfinally\u001b[0m\u001b[0;34m:\u001b[0m\u001b[0;34m\u001b[0m\u001b[0;34m\u001b[0m\u001b[0m\n\u001b[1;32m    462\u001b[0m         \u001b[0mparser\u001b[0m\u001b[0;34m.\u001b[0m\u001b[0mclose\u001b[0m\u001b[0;34m(\u001b[0m\u001b[0;34m)\u001b[0m\u001b[0;34m\u001b[0m\u001b[0;34m\u001b[0m\u001b[0m\n",
      "\u001b[0;32m~/anaconda3/envs/python3/lib/python3.6/site-packages/pandas/io/parsers.py\u001b[0m in \u001b[0;36mread\u001b[0;34m(self, nrows)\u001b[0m\n\u001b[1;32m   1211\u001b[0m             \u001b[0mnew_rows\u001b[0m \u001b[0;34m=\u001b[0m \u001b[0mlen\u001b[0m\u001b[0;34m(\u001b[0m\u001b[0mindex\u001b[0m\u001b[0;34m)\u001b[0m\u001b[0;34m\u001b[0m\u001b[0;34m\u001b[0m\u001b[0m\n\u001b[1;32m   1212\u001b[0m \u001b[0;34m\u001b[0m\u001b[0m\n\u001b[0;32m-> 1213\u001b[0;31m         \u001b[0mdf\u001b[0m \u001b[0;34m=\u001b[0m \u001b[0mDataFrame\u001b[0m\u001b[0;34m(\u001b[0m\u001b[0mcol_dict\u001b[0m\u001b[0;34m,\u001b[0m \u001b[0mcolumns\u001b[0m\u001b[0;34m=\u001b[0m\u001b[0mcolumns\u001b[0m\u001b[0;34m,\u001b[0m \u001b[0mindex\u001b[0m\u001b[0;34m=\u001b[0m\u001b[0mindex\u001b[0m\u001b[0;34m)\u001b[0m\u001b[0;34m\u001b[0m\u001b[0;34m\u001b[0m\u001b[0m\n\u001b[0m\u001b[1;32m   1214\u001b[0m \u001b[0;34m\u001b[0m\u001b[0m\n\u001b[1;32m   1215\u001b[0m         \u001b[0mself\u001b[0m\u001b[0;34m.\u001b[0m\u001b[0m_currow\u001b[0m \u001b[0;34m+=\u001b[0m \u001b[0mnew_rows\u001b[0m\u001b[0;34m\u001b[0m\u001b[0;34m\u001b[0m\u001b[0m\n",
      "\u001b[0;32m~/anaconda3/envs/python3/lib/python3.6/site-packages/pandas/core/frame.py\u001b[0m in \u001b[0;36m__init__\u001b[0;34m(self, data, index, columns, dtype, copy)\u001b[0m\n\u001b[1;32m    466\u001b[0m \u001b[0;34m\u001b[0m\u001b[0m\n\u001b[1;32m    467\u001b[0m         \u001b[0;32melif\u001b[0m \u001b[0misinstance\u001b[0m\u001b[0;34m(\u001b[0m\u001b[0mdata\u001b[0m\u001b[0;34m,\u001b[0m \u001b[0mdict\u001b[0m\u001b[0;34m)\u001b[0m\u001b[0;34m:\u001b[0m\u001b[0;34m\u001b[0m\u001b[0;34m\u001b[0m\u001b[0m\n\u001b[0;32m--> 468\u001b[0;31m             \u001b[0mmgr\u001b[0m \u001b[0;34m=\u001b[0m \u001b[0minit_dict\u001b[0m\u001b[0;34m(\u001b[0m\u001b[0mdata\u001b[0m\u001b[0;34m,\u001b[0m \u001b[0mindex\u001b[0m\u001b[0;34m,\u001b[0m \u001b[0mcolumns\u001b[0m\u001b[0;34m,\u001b[0m \u001b[0mdtype\u001b[0m\u001b[0;34m=\u001b[0m\u001b[0mdtype\u001b[0m\u001b[0;34m)\u001b[0m\u001b[0;34m\u001b[0m\u001b[0;34m\u001b[0m\u001b[0m\n\u001b[0m\u001b[1;32m    469\u001b[0m         \u001b[0;32melif\u001b[0m \u001b[0misinstance\u001b[0m\u001b[0;34m(\u001b[0m\u001b[0mdata\u001b[0m\u001b[0;34m,\u001b[0m \u001b[0mma\u001b[0m\u001b[0;34m.\u001b[0m\u001b[0mMaskedArray\u001b[0m\u001b[0;34m)\u001b[0m\u001b[0;34m:\u001b[0m\u001b[0;34m\u001b[0m\u001b[0;34m\u001b[0m\u001b[0m\n\u001b[1;32m    470\u001b[0m             \u001b[0;32mimport\u001b[0m \u001b[0mnumpy\u001b[0m\u001b[0;34m.\u001b[0m\u001b[0mma\u001b[0m\u001b[0;34m.\u001b[0m\u001b[0mmrecords\u001b[0m \u001b[0;32mas\u001b[0m \u001b[0mmrecords\u001b[0m\u001b[0;34m\u001b[0m\u001b[0;34m\u001b[0m\u001b[0m\n",
      "\u001b[0;32m~/anaconda3/envs/python3/lib/python3.6/site-packages/pandas/core/internals/construction.py\u001b[0m in \u001b[0;36minit_dict\u001b[0;34m(data, index, columns, dtype)\u001b[0m\n\u001b[1;32m    281\u001b[0m             \u001b[0marr\u001b[0m \u001b[0;32mif\u001b[0m \u001b[0;32mnot\u001b[0m \u001b[0mis_datetime64tz_dtype\u001b[0m\u001b[0;34m(\u001b[0m\u001b[0marr\u001b[0m\u001b[0;34m)\u001b[0m \u001b[0;32melse\u001b[0m \u001b[0marr\u001b[0m\u001b[0;34m.\u001b[0m\u001b[0mcopy\u001b[0m\u001b[0;34m(\u001b[0m\u001b[0;34m)\u001b[0m \u001b[0;32mfor\u001b[0m \u001b[0marr\u001b[0m \u001b[0;32min\u001b[0m \u001b[0marrays\u001b[0m\u001b[0;34m\u001b[0m\u001b[0;34m\u001b[0m\u001b[0m\n\u001b[1;32m    282\u001b[0m         ]\n\u001b[0;32m--> 283\u001b[0;31m     \u001b[0;32mreturn\u001b[0m \u001b[0marrays_to_mgr\u001b[0m\u001b[0;34m(\u001b[0m\u001b[0marrays\u001b[0m\u001b[0;34m,\u001b[0m \u001b[0mdata_names\u001b[0m\u001b[0;34m,\u001b[0m \u001b[0mindex\u001b[0m\u001b[0;34m,\u001b[0m \u001b[0mcolumns\u001b[0m\u001b[0;34m,\u001b[0m \u001b[0mdtype\u001b[0m\u001b[0;34m=\u001b[0m\u001b[0mdtype\u001b[0m\u001b[0;34m)\u001b[0m\u001b[0;34m\u001b[0m\u001b[0;34m\u001b[0m\u001b[0m\n\u001b[0m\u001b[1;32m    284\u001b[0m \u001b[0;34m\u001b[0m\u001b[0m\n\u001b[1;32m    285\u001b[0m \u001b[0;34m\u001b[0m\u001b[0m\n",
      "\u001b[0;32m~/anaconda3/envs/python3/lib/python3.6/site-packages/pandas/core/internals/construction.py\u001b[0m in \u001b[0;36marrays_to_mgr\u001b[0;34m(arrays, arr_names, index, columns, dtype, verify_integrity)\u001b[0m\n\u001b[1;32m     81\u001b[0m \u001b[0;34m\u001b[0m\u001b[0m\n\u001b[1;32m     82\u001b[0m         \u001b[0;31m# don't force copy because getting jammed in an ndarray anyway\u001b[0m\u001b[0;34m\u001b[0m\u001b[0;34m\u001b[0m\u001b[0;34m\u001b[0m\u001b[0m\n\u001b[0;32m---> 83\u001b[0;31m         \u001b[0marrays\u001b[0m \u001b[0;34m=\u001b[0m \u001b[0m_homogenize\u001b[0m\u001b[0;34m(\u001b[0m\u001b[0marrays\u001b[0m\u001b[0;34m,\u001b[0m \u001b[0mindex\u001b[0m\u001b[0;34m,\u001b[0m \u001b[0mdtype\u001b[0m\u001b[0;34m)\u001b[0m\u001b[0;34m\u001b[0m\u001b[0;34m\u001b[0m\u001b[0m\n\u001b[0m\u001b[1;32m     84\u001b[0m \u001b[0;34m\u001b[0m\u001b[0m\n\u001b[1;32m     85\u001b[0m         \u001b[0mcolumns\u001b[0m \u001b[0;34m=\u001b[0m \u001b[0mensure_index\u001b[0m\u001b[0;34m(\u001b[0m\u001b[0mcolumns\u001b[0m\u001b[0;34m)\u001b[0m\u001b[0;34m\u001b[0m\u001b[0;34m\u001b[0m\u001b[0m\n",
      "\u001b[0;32m~/anaconda3/envs/python3/lib/python3.6/site-packages/pandas/core/internals/construction.py\u001b[0m in \u001b[0;36m_homogenize\u001b[0;34m(data, index, dtype)\u001b[0m\n\u001b[1;32m    350\u001b[0m                 \u001b[0mval\u001b[0m \u001b[0;34m=\u001b[0m \u001b[0mlib\u001b[0m\u001b[0;34m.\u001b[0m\u001b[0mfast_multiget\u001b[0m\u001b[0;34m(\u001b[0m\u001b[0mval\u001b[0m\u001b[0;34m,\u001b[0m \u001b[0moindex\u001b[0m\u001b[0;34m.\u001b[0m\u001b[0m_values\u001b[0m\u001b[0;34m,\u001b[0m \u001b[0mdefault\u001b[0m\u001b[0;34m=\u001b[0m\u001b[0mnp\u001b[0m\u001b[0;34m.\u001b[0m\u001b[0mnan\u001b[0m\u001b[0;34m)\u001b[0m\u001b[0;34m\u001b[0m\u001b[0;34m\u001b[0m\u001b[0m\n\u001b[1;32m    351\u001b[0m             val = sanitize_array(\n\u001b[0;32m--> 352\u001b[0;31m                 \u001b[0mval\u001b[0m\u001b[0;34m,\u001b[0m \u001b[0mindex\u001b[0m\u001b[0;34m,\u001b[0m \u001b[0mdtype\u001b[0m\u001b[0;34m=\u001b[0m\u001b[0mdtype\u001b[0m\u001b[0;34m,\u001b[0m \u001b[0mcopy\u001b[0m\u001b[0;34m=\u001b[0m\u001b[0;32mFalse\u001b[0m\u001b[0;34m,\u001b[0m \u001b[0mraise_cast_failure\u001b[0m\u001b[0;34m=\u001b[0m\u001b[0;32mFalse\u001b[0m\u001b[0;34m\u001b[0m\u001b[0;34m\u001b[0m\u001b[0m\n\u001b[0m\u001b[1;32m    353\u001b[0m             )\n\u001b[1;32m    354\u001b[0m \u001b[0;34m\u001b[0m\u001b[0m\n",
      "\u001b[0;32m~/anaconda3/envs/python3/lib/python3.6/site-packages/pandas/core/construction.py\u001b[0m in \u001b[0;36msanitize_array\u001b[0;34m(data, index, dtype, copy, raise_cast_failure)\u001b[0m\n\u001b[1;32m    511\u001b[0m \u001b[0;34m\u001b[0m\u001b[0m\n\u001b[1;32m    512\u001b[0m         \u001b[0;32mif\u001b[0m \u001b[0mis_object_dtype\u001b[0m\u001b[0;34m(\u001b[0m\u001b[0msubarr\u001b[0m\u001b[0;34m.\u001b[0m\u001b[0mdtype\u001b[0m\u001b[0;34m)\u001b[0m \u001b[0;32mand\u001b[0m \u001b[0;32mnot\u001b[0m \u001b[0mis_object_dtype\u001b[0m\u001b[0;34m(\u001b[0m\u001b[0mdtype\u001b[0m\u001b[0;34m)\u001b[0m\u001b[0;34m:\u001b[0m\u001b[0;34m\u001b[0m\u001b[0;34m\u001b[0m\u001b[0m\n\u001b[0;32m--> 513\u001b[0;31m             \u001b[0minferred\u001b[0m \u001b[0;34m=\u001b[0m \u001b[0mlib\u001b[0m\u001b[0;34m.\u001b[0m\u001b[0minfer_dtype\u001b[0m\u001b[0;34m(\u001b[0m\u001b[0msubarr\u001b[0m\u001b[0;34m,\u001b[0m \u001b[0mskipna\u001b[0m\u001b[0;34m=\u001b[0m\u001b[0;32mFalse\u001b[0m\u001b[0;34m)\u001b[0m\u001b[0;34m\u001b[0m\u001b[0;34m\u001b[0m\u001b[0m\n\u001b[0m\u001b[1;32m    514\u001b[0m             \u001b[0;32mif\u001b[0m \u001b[0minferred\u001b[0m \u001b[0;32min\u001b[0m \u001b[0;34m{\u001b[0m\u001b[0;34m\"interval\"\u001b[0m\u001b[0;34m,\u001b[0m \u001b[0;34m\"period\"\u001b[0m\u001b[0;34m}\u001b[0m\u001b[0;34m:\u001b[0m\u001b[0;34m\u001b[0m\u001b[0;34m\u001b[0m\u001b[0m\n\u001b[1;32m    515\u001b[0m                 \u001b[0msubarr\u001b[0m \u001b[0;34m=\u001b[0m \u001b[0marray\u001b[0m\u001b[0;34m(\u001b[0m\u001b[0msubarr\u001b[0m\u001b[0;34m)\u001b[0m\u001b[0;34m\u001b[0m\u001b[0;34m\u001b[0m\u001b[0m\n",
      "\u001b[0;31mKeyboardInterrupt\u001b[0m: "
     ]
    }
   ],
   "source": [
    "import pandas as pd\n",
    "MesoWestWind = pd.read_csv('MesoWestWindEnhanced.csv')"
   ]
  },
  {
   "cell_type": "code",
   "execution_count": null,
   "id": "557e56a0",
   "metadata": {},
   "outputs": [],
   "source": [
    "import missingno as msno\n",
    ">>> %matplotlib inline\n",
    "\n",
    "msno.bar(MesoWestFuel[['Date', 'Region', 'Station', 'date_time',\n",
    "       'fuel_temp_set_1', 'air_temp_set_1',\n",
    "       'relative_humidity_set_1', 'wind_speed_set_1', \n",
    "       'wind_gust_set_1', 'solar_radiation_set_1',\n",
    "       'precip_accum_set_1','peak_wind_speed_set_1',\n",
    "       'fuel_moisture_set_1'\n",
    "                      ]])"
   ]
  },
  {
   "cell_type": "code",
   "execution_count": null,
   "id": "fa143ffe",
   "metadata": {},
   "outputs": [],
   "source": []
  },
  {
   "cell_type": "code",
   "execution_count": 6,
   "id": "1d4d8754",
   "metadata": {},
   "outputs": [
    {
     "data": {
      "text/plain": [
       "<AxesSubplot:>"
      ]
     },
     "execution_count": 6,
     "metadata": {},
     "output_type": "execute_result"
    },
    {
     "data": {
      "image/png": "[encoded data removed]",
      "text/plain": [
       "<Figure size 1728x720 with 3 Axes>"
      ]
     },
     "metadata": {
      "needs_background": "light"
     },
     "output_type": "display_data"
    }
   ],
   "source": [
    "import missingno as msno\n",
    ">>> %matplotlib inline\n",
    "\n",
    "msno.bar(MesoWestFuel[[\n",
    "       'fuel_temp_set_1', 'air_temp_set_1','solar_radiation_set_1',\n",
    "\n",
    "                      ]])"
   ]
  },
  {
   "cell_type": "code",
   "execution_count": null,
   "id": "4091e8d7",
   "metadata": {},
   "outputs": [],
   "source": []
  },
  {
   "cell_type": "code",
   "execution_count": null,
   "id": "5df1a479",
   "metadata": {},
   "outputs": [],
   "source": [
    "msno.bar(MesoWestWind.drop(columns=['Unnamed: 0', 'Unnamed: 0.1']))"
   ]
  },
  {
   "cell_type": "code",
   "execution_count": null,
   "id": "784b77dd",
   "metadata": {},
   "outputs": [],
   "source": [
    "1"
   ]
  },
  {
   "cell_type": "code",
   "execution_count": null,
   "id": "967860a2",
   "metadata": {},
   "outputs": [],
   "source": []
  }
 ],
 "metadata": {
  "kernelspec": {
   "display_name": "conda_python3",
   "language": "python",
   "name": "conda_python3"
  },
  "language_info": {
   "codemirror_mode": {
    "name": "ipython",
    "version": 3
   },
   "file_extension": ".py",
   "mimetype": "text/x-python",
   "name": "python",
   "nbconvert_exporter": "python",
   "pygments_lexer": "ipython3",
   "version": "3.6.13"
  }
 },
 "nbformat": 4,
 "nbformat_minor": 5
}
